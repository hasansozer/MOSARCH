{
 "cells": [
  {
   "cell_type": "code",
   "execution_count": 9,
   "id": "compact-burke",
   "metadata": {},
   "outputs": [],
   "source": [
    "import subprocess\n",
    "\n",
    "def runHeuristics(file_name):\n",
    "    \n",
    "    instance_name = file_name\n",
    "\n",
    "    command_1 = \"java -jar rsf2txt.jar\"\n",
    "\n",
    "    command_2 = \"java -jar clustering.jar\"\n",
    "\n",
    "    command_3 = \"java -jar txt2rsf.jar\"\n",
    "\n",
    "    input_1 = \"../dataset/{}/{}-dependency.rsf\".format(instance_name,instance_name)\n",
    "    output_1 = \"dep.txt\"\n",
    "\n",
    "    input_2 = output_1\n",
    "    output_2 = \"c.txt\"\n",
    "\n",
    "    input_3 = output_2\n",
    "    output_3 = \"c.rsf\"\n",
    "    \n",
    "    \n",
    "    cmd1 = command_1 + \" \" + input_1 + \" \" + output_1\n",
    "    cmd2 = command_2 + \" \" + input_2 + \" \" + output_2\n",
    "    cmd3 = command_3 + \" \" + input_3 + \" \" + output_3\n",
    "    \n",
    "    a = subprocess.check_output(cmd1, shell=True,  cwd='../experiments/')\n",
    "    a = subprocess.check_output(cmd2, shell=True,  cwd='../experiments/')\n",
    "    a = subprocess.check_output(cmd3, shell=True,  cwd='../experiments/')\n",
    "    \n",
    "    target_path = \"../experiments/\" + output_3\n",
    "\n",
    "    with open(target_path, 'r') as f:\n",
    "        last_line = f.readlines()[-1]\n",
    "    n_clust = int(last_line.split(\" \")[1]) + 1\n",
    "    \n",
    "    return n_clust"
   ]
  },
  {
   "cell_type": "code",
   "execution_count": 10,
   "id": "pressed-clerk",
   "metadata": {},
   "outputs": [
    {
     "data": {
      "text/plain": [
       "12"
      ]
     },
     "execution_count": 10,
     "metadata": {},
     "output_type": "execute_result"
    }
   ],
   "source": [
    "runHeuristics(file_name=\"openjpa\")"
   ]
  },
  {
   "cell_type": "code",
   "execution_count": null,
   "id": "weird-swing",
   "metadata": {},
   "outputs": [],
   "source": []
  }
 ],
 "metadata": {
  "kernelspec": {
   "display_name": "Python 3 (ipykernel)",
   "language": "python",
   "name": "python3"
  },
  "language_info": {
   "codemirror_mode": {
    "name": "ipython",
    "version": 3
   },
   "file_extension": ".py",
   "mimetype": "text/x-python",
   "name": "python",
   "nbconvert_exporter": "python",
   "pygments_lexer": "ipython3",
   "version": "3.7.9"
  }
 },
 "nbformat": 4,
 "nbformat_minor": 5
}
